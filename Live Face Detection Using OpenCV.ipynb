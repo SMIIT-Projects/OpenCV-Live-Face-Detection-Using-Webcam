{
 "cells": [
  {
   "cell_type": "code",
   "execution_count": 1,
   "metadata": {},
   "outputs": [],
   "source": [
    "# pip install opencv-python"
   ]
  },
  {
   "cell_type": "code",
   "execution_count": 2,
   "metadata": {},
   "outputs": [],
   "source": [
    "# import important library\n",
    "import numpy as np\n",
    "import cv2\n",
    "import warnings\n",
    "warnings.filterwarnings('ignore')\n",
    "import os"
   ]
  },
  {
   "cell_type": "code",
   "execution_count": 3,
   "metadata": {},
   "outputs": [],
   "source": [
    "# Set Path\n",
    "os.chdir('E:\\\\prasad\\\\SMIIT\\\\Opencv\\\\Live Face Detection Using OpenCV')"
   ]
  },
  {
   "cell_type": "code",
   "execution_count": 4,
   "metadata": {},
   "outputs": [],
   "source": [
    "# Load trained cascade classifier\n",
    "face_classifier=cv2.CascadeClassifier('haarcascade_frontalface_default.xml')"
   ]
  },
  {
   "cell_type": "code",
   "execution_count": 5,
   "metadata": {},
   "outputs": [],
   "source": [
    "#start Webcam\n",
    "cap = cv2.VideoCapture(0)\n",
    "while True:\n",
    "    #read images from webcam\n",
    "    response,color_img = cap.read()\n",
    "    #convert images into Grayscale\n",
    "    gray_img = cv2.cvtColor(color_img,cv2.COLOR_BGR2GRAY)\n",
    "    #Detect the Faces\n",
    "    # Detect faces ROI\n",
    "    #Syntax: Classifier.detectMultiScale(input image, Scale Factor , Min Neighbors)\n",
    "    faces = face_classifier.detectMultiScale(gray_img,1.1,5)\n",
    "    #Display Rectangle\n",
    "    for (x,y,w,h) in faces:\n",
    "        cv2.rectangle(color_img,(x,y),(x+w,y+h),(0,0,255),2)   # (Blue-0, Green-0, Red-255), Width of rectangle=2\n",
    "    #Show Image\n",
    "    cv2.imshow('Live Face',color_img)\n",
    "    if cv2.waitKey(1) & 0xff == ord('q'):   #when we press q button in our keybord that time window will break\n",
    "        break\n",
    "#release Webcam        \n",
    "cap.release()\n",
    "#close all windows\n",
    "cv2.destroyAllWindows()"
   ]
  },
  {
   "cell_type": "markdown",
   "metadata": {},
   "source": [
    "## Thank You!"
   ]
  }
 ],
 "metadata": {
  "kernelspec": {
   "display_name": "Python 3",
   "language": "python",
   "name": "python3"
  },
  "language_info": {
   "codemirror_mode": {
    "name": "ipython",
    "version": 3
   },
   "file_extension": ".py",
   "mimetype": "text/x-python",
   "name": "python",
   "nbconvert_exporter": "python",
   "pygments_lexer": "ipython3",
   "version": "3.8.5"
  }
 },
 "nbformat": 4,
 "nbformat_minor": 4
}
